{
 "cells": [
  {
   "cell_type": "code",
   "execution_count": null,
   "metadata": {
    "collapsed": false
   },
   "outputs": [],
   "source": [
    "import pyspark\n",
    "import pyspark.sql.functions as func\n",
    "import pyspark.sql.types as types\n",
    "sc = pyspark.SparkContext(master='local[*]', appName='DataFrame')\n",
    "sqlContext = pyspark.sql.SQLContext(sc)"
   ]
  },
  {
   "cell_type": "code",
   "execution_count": null,
   "metadata": {
    "collapsed": false
   },
   "outputs": [],
   "source": [
    "import re\n",
    "\n",
    "# Row is one way to creat DataFrame in Python; this one does not require additional schema\n",
    "# see docs for details: http://spark.apache.org/docs/latest/api/python/pyspark.sql.html\n",
    "def from_csv(line):\n",
    "    # This is just for clarity\n",
    "    HOOD_COLUMN = 1\n",
    "    TYPE_COLUMN = 2;\n",
    "    LAND_AREA_COLUMN = 14;\n",
    "    GROSS_AREA_COLUMN = 15;\n",
    "    YEAR_COLUMN = 16;\n",
    "    PRICE_COLUMN = 19;\n",
    "    # Split column and pack it into dict\n",
    "    c = line.split(',')\n",
    "    row = dict()\n",
    "    row['hood'] = c[HOOD_COLUMN];\n",
    "    row['type'] = c[TYPE_COLUMN];\n",
    "    row['landArea'] = int(re.sub(r'[^\\d]', '', c[LAND_AREA_COLUMN]));\n",
    "    row['grossArea'] = int(re.sub(r'[^\\d]', '', c[GROSS_AREA_COLUMN]));\n",
    "    row['year'] = int(re.sub(r'[^\\d]', '', c[YEAR_COLUMN]));\n",
    "    row['price'] = int(re.sub(r'[^\\d]', '', c[PRICE_COLUMN]));\n",
    "    # Returning a Row object as dict is depricated\n",
    "    return pyspark.Row(**row)"
   ]
  },
  {
   "cell_type": "code",
   "execution_count": null,
   "metadata": {
    "collapsed": false
   },
   "outputs": [],
   "source": [
    "sales_rdd = sc.textFile('../../data/rollingsales_bronx.csv').map(lambda line: from_csv(line))\n",
    "sales = sqlContext.createDataFrame(sales_rdd)\n",
    "sales.printSchema()\n",
    "sales.show()"
   ]
  },
  {
   "cell_type": "markdown",
   "metadata": {},
   "source": [
    "RE 1. Analyse the houses data and count houses, averages of areas, yeas and prices, grouping by neighbourhood and type."
   ]
  },
  {
   "cell_type": "code",
   "execution_count": null,
   "metadata": {
    "collapsed": false
   },
   "outputs": [],
   "source": [
    "a1 = sales.groupBy('hood', 'type') \\\n",
    "    .agg(func.count('type').alias('count'),\n",
    "         func.avg('landArea').alias('avgLandArea'),\n",
    "         func.avg('year').alias('avgYear'),\n",
    "         func.avg('price').alias('avgPrice')) \\\n",
    "    .orderBy('hood', 'type')\n",
    "a1.show()"
   ]
  }
 ],
 "metadata": {
  "kernelspec": {
   "display_name": "Python 3",
   "language": "python",
   "name": "python3"
  },
  "language_info": {
   "codemirror_mode": {
    "name": "ipython",
    "version": 3.0
   },
   "file_extension": ".py",
   "mimetype": "text/x-python",
   "name": "python",
   "nbconvert_exporter": "python",
   "pygments_lexer": "ipython3",
   "version": "3.5.1"
  }
 },
 "nbformat": 4,
 "nbformat_minor": 0
}