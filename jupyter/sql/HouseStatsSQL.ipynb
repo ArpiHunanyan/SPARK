{
 "cells": [
  {
   "cell_type": "code",
   "execution_count": null,
   "metadata": {
    "collapsed": false
   },
   "outputs": [],
   "source": [
    "import pyspark\n",
    "import pyspark.sql.functions as func\n",
    "sc = pyspark.SparkContext(master='local[*]', appName='SQL')\n",
    "sqlContext = pyspark.sql.SQLContext(sc)"
   ]
  },
  {
   "cell_type": "code",
   "execution_count": null,
   "metadata": {
    "collapsed": false
   },
   "outputs": [],
   "source": [
    "sales = sqlContext.read.json('../../data/rollingsales_bronx.json')\n",
    "sales.registerTempTable('sales')\n",
    "sales.printSchema()\n",
    "sales.show()"
   ]
  },
  {
   "cell_type": "markdown",
   "metadata": {},
   "source": [
    "RE 1. Analyse the houses data and count houses, averages of areas, yeas and prices, grouping by neighbourhood and type."
   ]
  },
  {
   "cell_type": "code",
   "execution_count": null,
   "metadata": {
    "collapsed": false
   },
   "outputs": [],
   "source": [
    "query = \"\"\"\n",
    "SELECT \n",
    "    hood,\n",
    "    type,\n",
    "    COUNT(*) as count,\n",
    "    AVG(landArea) as avgLandArea,\n",
    "    AVG(year) as avgYear,\n",
    "    AVG(price) as avgPrice\n",
    "FROM sales\n",
    "GROUP BY hood, type\n",
    "ORDER BY hood, type\n",
    "\"\"\"\n",
    "a1 = sqlContext.sql(query)\n",
    "a1.show()"
   ]
  }
 ],
 "metadata": {
  "kernelspec": {
   "display_name": "Python 3",
   "language": "python",
   "name": "python3"
  },
  "language_info": {
   "codemirror_mode": {
    "name": "ipython",
    "version": 3.0
   },
   "file_extension": ".py",
   "mimetype": "text/x-python",
   "name": "python",
   "nbconvert_exporter": "python",
   "pygments_lexer": "ipython3",
   "version": "3.5.1"
  }
 },
 "nbformat": 4,
 "nbformat_minor": 0
}